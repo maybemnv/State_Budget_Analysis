{
 "cells": [
  {
   "cell_type": "code",
   "execution_count": 1,
   "id": "4a33290c",
   "metadata": {},
   "outputs": [],
   "source": [
    "import pandas as pd"
   ]
  },
  {
   "cell_type": "code",
   "execution_count": 16,
   "id": "afd7472b",
   "metadata": {},
   "outputs": [
    {
     "name": "stdout",
     "output_type": "stream",
     "text": [
      "Available sheets: ['Initial Data', 'India Stats', 'Haryana Rev & Exp ', 'India Haryana', 'Haryana Rev & Exp Composition', 'Haryana Rev & Exp Comp. Contd.', 'Capital Outlay', 'Regressions NSDP PC Har', 'Regressions NSDP PC Ind']\n"
     ]
    }
   ],
   "source": [
    "excel_file = 'Haryana Time Series Analysis.xlsx'\n",
    "# Get the list of all tables/sheets\n",
    "xl = pd.ExcelFile(excel_file)\n",
    "print(\"Available sheets:\", xl.sheet_names)"
   ]
  },
  {
   "cell_type": "code",
   "execution_count": 19,
   "id": "5ac3647d",
   "metadata": {},
   "outputs": [
    {
     "name": "stdout",
     "output_type": "stream",
     "text": [
      "      Year NSDP Haryana INR Crore(Constant, Base Price = 2011-12)  \\\n",
      "0  2004-05                                      143606.656231       \n",
      "1  2005-06                                      163061.645762       \n",
      "2  2006-07                                      193375.103247       \n",
      "3  2007-08                                      227485.982151       \n",
      "4  2008-09                                      274208.343102       \n",
      "\n",
      "   Population (000)  Adjusted Population  NSDP Constant Per Capita  \\\n",
      "0           22707.0               2.2707              63243.341803   \n",
      "1           23140.0               2.3140              70467.435506   \n",
      "2           23569.0               2.3569              82046.375853   \n",
      "3           23997.0               2.3997              94797.675606   \n",
      "4           24425.0               2.4425             112265.442416   \n",
      "\n",
      "   Log NSDP Per Capita (Constant Unnamed: 6 Financial Year  Year Variable   \\\n",
      "0                      11.054745        NaN        2004-05             1.0   \n",
      "1                      11.162906        NaN        2005-06             2.0   \n",
      "2                      11.315040        NaN        2006-07             3.0   \n",
      "3                      11.459500        NaN        2007-08             4.0   \n",
      "4                      11.628621        NaN        2008-09             5.0   \n",
      "\n",
      "  Unnamed: 9  ...  Unnamed: 14  Unnamed: 0  Unnamed: 1  Unnamed: 2  \\\n",
      "0        NaN  ...          NaN         NaN         NaN         NaN   \n",
      "1        NaN  ...          NaN         NaN         NaN         NaN   \n",
      "2        NaN  ...          NaN         NaN         NaN         NaN   \n",
      "3        NaN  ...          NaN         NaN         NaN         NaN   \n",
      "4        NaN  ...          NaN         NaN         NaN         NaN   \n",
      "\n",
      "   Unnamed: 3 Unnamed: 4  Unnamed: 5  Unnamed: 15  Capital Outlay (INR Crore)  \\\n",
      "0         NaN        NaN         NaN          NaN                         NaN   \n",
      "1         NaN        NaN         NaN          NaN                         NaN   \n",
      "2         NaN        NaN         NaN          NaN                         NaN   \n",
      "3         NaN        NaN         NaN          NaN                         NaN   \n",
      "4         NaN        NaN         NaN          NaN                         NaN   \n",
      "\n",
      "  SUMMARY OUTPUT  \n",
      "0            NaN  \n",
      "1            NaN  \n",
      "2            NaN  \n",
      "3            NaN  \n",
      "4            NaN  \n",
      "\n",
      "[5 rows x 64 columns]\n"
     ]
    }
   ],
   "source": [
    "all_sheets = pd.read_excel(excel_file, sheet_name=None)\n",
    "# Concatenate all sheets into one DataFrame\n",
    "df = pd.concat(all_sheets.values(), ignore_index=True)\n",
    "\n",
    "# Display the first few rows of the combined DataFrame\n",
    "print(df.head())"
   ]
  },
  {
   "cell_type": "code",
   "execution_count": 20,
   "id": "f3a1a360",
   "metadata": {},
   "outputs": [
    {
     "name": "stdout",
     "output_type": "stream",
     "text": [
      "<class 'pandas.core.frame.DataFrame'>\n",
      "RangeIndex: 928 entries, 0 to 927\n",
      "Data columns (total 64 columns):\n",
      " #   Column                                                                          Non-Null Count  Dtype  \n",
      "---  ------                                                                          --------------  -----  \n",
      " 0   Year                                                                            558 non-null    object \n",
      " 1   NSDP Haryana INR Crore(Constant, Base Price = 2011-12)                          42 non-null     object \n",
      " 2   Population (000)                                                                59 non-null     float64\n",
      " 3   Adjusted Population                                                             57 non-null     float64\n",
      " 4   NSDP Constant Per Capita                                                        38 non-null     float64\n",
      " 5   Log NSDP Per Capita (Constant                                                   19 non-null     float64\n",
      " 6   Unnamed: 6                                                                      246 non-null    object \n",
      " 7   Financial Year                                                                  19 non-null     object \n",
      " 8   Year Variable                                                                   38 non-null     float64\n",
      " 9   Unnamed: 9                                                                      160 non-null    object \n",
      " 10  NSDP Current Prices (INR Crore) (Base Price- 20-11-12)                          38 non-null     float64\n",
      " 11  Population (000).1                                                              19 non-null     float64\n",
      " 12  Adjusted Population.1                                                           19 non-null     float64\n",
      " 13  NSDP Current Per Capita                                                         19 non-null     float64\n",
      " 14  Log NSDP Per Capita (Current)                                                   19 non-null     float64\n",
      " 15  NSDP Deflator (Base 2011-12)                                                    316 non-null    object \n",
      " 16  All-India NDP (Current Prices) (INR Crore) (Base 2011-12)                       19 non-null     float64\n",
      " 17  All-India NDP (Constant Prices) (INR Crore) (Base 2011-2012)                    19 non-null     float64\n",
      " 18  NDP Deflator (2011-12 base)                                                     19 non-null     float64\n",
      " 19  All-India NDP Per Capita (Constant Prices) (Base 2011-12)                       21 non-null     object \n",
      " 20  Log All-India NDP Per Capita (Constant Prices) (Base 2011-12)                   21 non-null     float64\n",
      " 21  Revenue Receipts (INR Crore)                                                    19 non-null     float64\n",
      " 22  Revenue Expenditure (INR Crore)                                                 19 non-null     float64\n",
      " 23  Revenue Receipts (INR Crore) (Base Price- 2011)                                 20 non-null     object \n",
      " 24  Revenue Expenditure (INR Crore) (Base Price- 2011-12                            19 non-null     float64\n",
      " 25  Revenue Receipts Per Capita (INR Crore) (Base Price- 2011)2                     19 non-null     float64\n",
      " 26  Revenue Expenditure Per Capita (INR Crore) (Base Price- 2011-122                19 non-null     float64\n",
      " 27  Real Receips as % of NDP                                                        38 non-null     float64\n",
      " 28  Real Expenditure as % of NDP                                                    38 non-null     float64\n",
      " 29  Log NSDP Per Capita (Constant)                                                  19 non-null     float64\n",
      " 30  Revenue Receipts                                                                301 non-null    object \n",
      " 31  Revenue Expenditure                                                             280 non-null    object \n",
      " 32  Revenue Deficit/ Surplus                                                        19 non-null     float64\n",
      " 33  Real Revenue Receipts                                                           258 non-null    object \n",
      " 34  Real Revenue Expenditure                                                        158 non-null    object \n",
      " 35  Real Revenue Deficit/ Surplus                                                   19 non-null     float64\n",
      " 36  Real Revenue Expenditure Per Capita (Constant Prices, INR Crores, Receipts)     38 non-null     float64\n",
      " 37  Real Revenue Receipts Per Capita (Constant Prices, INR Crores, Receipts)2       38 non-null     float64\n",
      " 38  Real Revenue Receipt as % of NSDP                                               38 non-null     float64\n",
      " 39  Real Revenue Expenditure as % of NSDP                                           38 non-null     float64\n",
      " 40  LN Real Revenue Receipts Per Capita (Constant Prices, INR Crores, Receipts)     19 non-null     float64\n",
      " 41  LN Real Revenue Expenditure Per Capita (Constant Prices, INR Crores, Receipts)  19 non-null     float64\n",
      " 42  Revenue Receipts (INR Crore) (Base Price- 2011-12)                              179 non-null    object \n",
      " 43  Revenue Expenditure (INR Crore) (Base Price- 2011-12)                           179 non-null    object \n",
      " 44  Revenue Receipts Per Capita (INR Crore) (Base Price- 2011-12)                   19 non-null     float64\n",
      " 45  Revenue Expenditure Per Capita (INR Crore) (Base Price- 2011-12)                19 non-null     float64\n",
      " 46  Haryana Revenue Receipts (INR Crore) (Base Price- 2011-12)                      19 non-null     float64\n",
      " 47  Haryana Revenue Expenditure (INR Crore) (Base Price- 2011-12)                   19 non-null     float64\n",
      " 48  Unnamed: 7                                                                      206 non-null    object \n",
      " 49  Unnamed: 8                                                                      186 non-null    object \n",
      " 50  Unnamed: 10                                                                     160 non-null    object \n",
      " 51  Unnamed: 11                                                                     142 non-null    object \n",
      " 52  Unnamed: 12                                                                     144 non-null    object \n",
      " 53  Unnamed: 13                                                                     82 non-null     object \n",
      " 54  Unnamed: 14                                                                     80 non-null     object \n",
      " 55  Unnamed: 0                                                                      163 non-null    object \n",
      " 56  Unnamed: 1                                                                      224 non-null    object \n",
      " 57  Unnamed: 2                                                                      214 non-null    object \n",
      " 58  Unnamed: 3                                                                      174 non-null    object \n",
      " 59  Unnamed: 4                                                                      152 non-null    object \n",
      " 60  Unnamed: 5                                                                      150 non-null    object \n",
      " 61  Unnamed: 15                                                                     60 non-null     object \n",
      " 62  Capital Outlay (INR Crore)                                                      40 non-null     object \n",
      " 63  SUMMARY OUTPUT                                                                  66 non-null     object \n",
      "dtypes: float64(34), object(30)\n",
      "memory usage: 464.1+ KB\n"
     ]
    }
   ],
   "source": [
    "df.info()"
   ]
  },
  {
   "cell_type": "code",
   "execution_count": 22,
   "id": "dda7fc76",
   "metadata": {},
   "outputs": [
    {
     "data": {
      "text/plain": [
       "Year                                                      370\n",
       "NSDP Haryana INR Crore(Constant, Base Price = 2011-12)    886\n",
       "Population (000)                                          869\n",
       "Adjusted Population                                       871\n",
       "NSDP Constant Per Capita                                  890\n",
       "                                                         ... \n",
       "Unnamed: 4                                                776\n",
       "Unnamed: 5                                                778\n",
       "Unnamed: 15                                               868\n",
       "Capital Outlay (INR Crore)                                888\n",
       "SUMMARY OUTPUT                                            862\n",
       "Length: 64, dtype: int64"
      ]
     },
     "execution_count": 22,
     "metadata": {},
     "output_type": "execute_result"
    }
   ],
   "source": [
    "df.isna().sum()"
   ]
  },
  {
   "cell_type": "code",
   "execution_count": null,
   "id": "62a3f8a2",
   "metadata": {},
   "outputs": [],
   "source": []
  }
 ],
 "metadata": {
  "kernelspec": {
   "display_name": ".venv",
   "language": "python",
   "name": "python3"
  },
  "language_info": {
   "codemirror_mode": {
    "name": "ipython",
    "version": 3
   },
   "file_extension": ".py",
   "mimetype": "text/x-python",
   "name": "python",
   "nbconvert_exporter": "python",
   "pygments_lexer": "ipython3",
   "version": "3.13.7"
  }
 },
 "nbformat": 4,
 "nbformat_minor": 5
}
